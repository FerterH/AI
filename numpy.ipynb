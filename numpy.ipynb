{
  "cells": [
    {
      "cell_type": "markdown",
      "metadata": {
        "id": "vC84e9kzyxPy"
      },
      "source": [
        "<h1>Импорт библиотек"
      ]
    },
    {
      "cell_type": "code",
      "execution_count": 3,
      "metadata": {
        "id": "cgKeNegmQG5S"
      },
      "outputs": [],
      "source": [
        "import numpy as np\n",
        "import matplotlib.pyplot as plt"
      ]
    },
    {
      "cell_type": "markdown",
      "metadata": {
        "id": "qFM9uVU2x4Ls"
      },
      "source": [
        "<h1>Задача 1. Дан набор из $p$ матриц размерностью $(n, n)$ и $p$ векторов размерностью $(n, 1)$, найти сумму произведений матриц на векторы. Написать тесты для кода"
      ]
    },
    {
      "cell_type": "code",
      "execution_count": null,
      "metadata": {
        "id": "IAbUvEiYyWFF"
      },
      "outputs": [],
      "source": [
        "import numpy as np\n",
        "import matplotlib\n",
        "\n",
        "def n_task1(X, V):\n",
        "    return X @ V\n",
        "\n",
        "print(n_task1(np.array([[1, 2, 3],\n",
        "                        [4, 5, 6],\n",
        "                        [7, 8, 9]]), np.array([1, 2, 3])))\n"
      ]
    },
    {
      "cell_type": "markdown",
      "metadata": {
        "id": "TKwPG4fIy2w4"
      },
      "source": [
        "<h1>Задача 2. Дана матрица M, напишите функцию, которая бинаризует матрицу по некоторому threshold (то есть, все значения большие threshold становятся равными 1, иначе 0). Напишите тесты для кода"
      ]
    },
    {
      "cell_type": "code",
      "execution_count": null,
      "metadata": {
        "id": "KQDNMgsjRNH7"
      },
      "outputs": [],
      "source": [
        "def n_task2(M, treshold):\n",
        "    for i in range(len(M[0])):\n",
        "        for j in range(len(M)):\n",
        "            if M[i][j] > treshold:\n",
        "                M[i][j] = 1\n",
        "            else:\n",
        "                M[i][j] = 0\n",
        "    return M\n",
        "print(n_task2(np.array([[1, 2, 3], [4, 5, 6], [7, 8, 9]]), 5.5))"
      ]
    },
    {
      "cell_type": "markdown",
      "metadata": {
        "id": "IY5L-h-7zWhN"
      },
      "source": [
        "<h1>Задача 3. Напишите функцию, которая возвращает уникальные элементы из каждой строки матрицы. Напишите такую же функцию, но для столбцов. Напишите тесты для кода"
      ]
    },
    {
      "cell_type": "code",
      "execution_count": null,
      "metadata": {
        "id": "-8dEZhR0SBC-"
      },
      "outputs": [],
      "source": [
        "def n_task3_rows(mat):\n",
        "    un_rows = []\n",
        "    for i in range(mat.shape[0]):\n",
        "        row = mat[i]\n",
        "        unique_elements = np.unique(row)\n",
        "        un_rows.append(unique_elements)\n",
        "    return un_rows\n",
        "\n",
        "\n",
        "def n_task3_columns(mat):\n",
        "    un_cols = []\n",
        "    for i in range(mat.shape[1]):\n",
        "        column = mat[:, i]\n",
        "        unique_elements = np.unique(column)\n",
        "        un_cols.append(unique_elements)\n",
        "\n",
        "    return un_cols\n",
        "\n",
        "print(n_task3_rows(np.array([[2, 1], [2, 2]])))"
      ]
    },
    {
      "cell_type": "markdown",
      "metadata": {
        "id": "roYAlo4Jz-lH"
      },
      "source": [
        "<h1>Задача 4. Напишите функцию, которая заполняет матрицу с размерами $(m, n)$ случайными числами, распределенными по нормальному закону. Затем считает мат. ожидание и дисперсию для каждого из столбцов и строк, а также строит для каждой строки и столбца гистограмму значений (использовать функцию hist из модуля matplotlib.plot)"
      ]
    },
    {
      "cell_type": "code",
      "execution_count": null,
      "metadata": {
        "id": "nZK_71hMSQzv"
      },
      "outputs": [],
      "source": [
        "import numpy as np\n",
        "import matplotlib.pyplot as plt\n",
        "\n",
        "def create_and_analyze_matrix(m, n):\n",
        "    matrix = np.random.normal(loc=0, scale=1, size=(m, n))\n",
        "    math_expectation_columns = np.mean(matrix, axis=0)\n",
        "    math_expectation_rows = np.mean(matrix, axis=1)\n",
        "    variance_columns = np.var(matrix, axis=0)\n",
        "    variance_rows = np.var(matrix, axis=1)\n",
        "    \n",
        "    print(matrix)\n",
        "    print(\"мат. ожидание по столбцам:\", math_expectation_columns)\n",
        "    print(\"мат. ожидание по рядам:\", math_expectation_rows)\n",
        "    print(\"дисперсия по столбцам:\", variance_columns)\n",
        "    print(\"дисперсия по рядам:\", variance_rows)\n",
        "\n",
        "    for i in range(m):\n",
        "        plt.figure()\n",
        "        plt.hist(matrix[i, :], edgecolor='black', color='orange')\n",
        "        plt.title(f'Histogram of row #{i+1}')\n",
        "        plt.xlabel('Value')\n",
        "        plt.ylabel('frequency')\n",
        "    for i in range(n):\n",
        "        plt.figure()\n",
        "        plt.hist(matrix[:, i], edgecolor='black', color='orange')\n",
        "        plt.title(f'Histogram of column #{i+1}')\n",
        "        plt.xlabel('Value')\n",
        "        plt.ylabel('frequency')\n",
        "    plt.show()\n",
        "    pass"
      ]
    },
    {
      "cell_type": "markdown",
      "metadata": {
        "id": "BDyATNdM0dJ2"
      },
      "source": [
        "<h1>Задача 5. Напишите функцию, которая заполняет матрицу $(m, n)$ в шахматном порядке заданными числами $a$ и $b$. Напишите тесты для кода"
      ]
    },
    {
      "cell_type": "code",
      "execution_count": 2,
      "metadata": {
        "id": "RWNJYWQGecS6"
      },
      "outputs": [
        {
          "name": "stdout",
          "output_type": "stream",
          "text": [
            "[[3 4 3]\n",
            " [4 3 4]\n",
            " [3 4 3]]\n"
          ]
        }
      ],
      "source": [
        "import numpy as np\n",
        "import matplotlib\n",
        "def n_task5(m, n, a, b):\n",
        "    matrix = np.zeros((m, n))\n",
        "    matrix[0, 0] = a\n",
        "    for j in range(1, n):\n",
        "        if matrix[0, j - 1] == a:\n",
        "            matrix[0, j] = b\n",
        "        else:\n",
        "            matrix[0, j] = a\n",
        "\n",
        "    for i in range(1, m):\n",
        "        for j in range(n):\n",
        "            if (matrix[i - 1, j] == a):\n",
        "                matrix[i, j] = b\n",
        "            else:\n",
        "                matrix[i, j] = a\n",
        "    return matrix\n",
        "print(np.array([[3, 4, 3], [4, 3, 4], [3, 4, 3]]))"
      ]
    },
    {
      "cell_type": "markdown",
      "metadata": {
        "id": "-ymXLtTN0vB6"
      },
      "source": [
        "<h1>Задача 6. Напишите функцию, которая отрисовывает прямоугольник с заданными размерами (a, b) на изображении размера (m, n), цвет фона задайте в схеме RGB, как и цвет прямоугольника. Цвета также должны быть параметрами функции. Напишите аналогичную функцию но для овала с полуосями a и b. Напишите тесты для кода.\n",
        "Примечание: уравнение эллипса (границы овала) можно записать как:\n",
        "<h1>$\\frac{(x-x_0)^2}{a^2}+\\frac{(y-y_0)^2}{b^2}=1$"
      ]
    },
    {
      "cell_type": "code",
      "execution_count": 1,
      "metadata": {
        "id": "sNfl1t_kfOF4"
      },
      "outputs": [],
      "source": [
        "def draw_rectangle(a, b, m, n, rectangle_color, background_color):\n",
        "    image = np.zeros((m, n, 3), dtype=np.uint8)\n",
        "    image[:, :] = background_color\n",
        "    x_start = m // 2 - a // 2\n",
        "    x_end = x_start + a\n",
        "    y_start = n // 2 - b // 2\n",
        "    y_end = y_start + b\n",
        "    image[y_start:y_end, x_start:x_end] = rectangle_color\n",
        "    plt.imshow(image)\n",
        "    plt.show()\n",
        "    pass\n",
        "\n",
        "def draw_ellipse(a, b, m, n, ellipse_color, background_color):\n",
        "    image = np.zeros((m, n, 3), dtype=np.uint8)\n",
        "    image[:, :] = background_color\n",
        "    for i in range(m):\n",
        "        for j in range(n):\n",
        "            if ((j - n // 2)**2 / a**2 + (i - m // 2)**2 / b**2) <= 1:\n",
        "                image[i, j] = ellipse_color\n",
        "    plt.imshow(image)\n",
        "    plt.show()\n"
      ]
    },
    {
      "cell_type": "markdown",
      "metadata": {
        "id": "S82c38oz244H"
      },
      "source": [
        "<h1>Задача 7. Дан некий временной ряд. Для данного ряда нужно найти его: математическое ожидание, дисперсию, СКО, найти все локальные максимумы и минимумы (локальный максимум - это точка, которая больше своих соседних точек, а локальный минимум - это точка, которая меньше своих соседей), а также вычислить для данного ряда другой ряд, получаемый методом скользящего среднего с размером окна $p$.\n",
        "<h1>Примечание: метод скользящего среднего подразумевает нахождение среднего из подмножетсва ряда размером $p$"
      ]
    },
    {
      "cell_type": "code",
      "execution_count": 3,
      "metadata": {
        "id": "Zb9mIVge5MMt"
      },
      "outputs": [],
      "source": [
        "import collections\n",
        "def n_task7(time_series, window):\n",
        "    math_expectation = np.mean(time_series)\n",
        "    variance = np.var(time_series)\n",
        "    standard_deviation = np.std(time_series)\n",
        "    local_max = []\n",
        "    local_min = []\n",
        "    for i in range(1, len(time_series) - 1):\n",
        "        if time_series[i] > time_series[i - 1] and time_series[i] > time_series[i + 1]:\n",
        "            local_max.append(time_series[i])\n",
        "        elif time_series[i] < time_series[i - 1] and time_series[i] < time_series[i + 1]:\n",
        "            local_min.append(time_series[i])\n",
        "    moving_average = []\n",
        "    sequence = collections.deque(maxlen=window)\n",
        "    for item in time_series:\n",
        "        sequence.append(item)\n",
        "        moving_average.append(sum(sequence) / len(sequence))\n",
        "\n",
        "    print(\"Математическое ожидание:\", math_expectation)\n",
        "    print(\"Дисперсия:\", variance)\n",
        "    print(\"Среднеквадратическое отклонение:\", standard_deviation)\n",
        "    print(\"Локальные максимумы:\", local_max)\n",
        "    print(\"Локальные минимумы:\", local_min)\n",
        "    print(\"Скользящее среднее:\", moving_average)\n",
        "    pass"
      ]
    },
    {
      "cell_type": "markdown",
      "metadata": {
        "id": "jPkylmOX5O9n"
      },
      "source": [
        "<h1> Задача 8. Дан некоторый вектор с целочисленными метками классов, напишите функцию, которая выполняет one-hot-encoding для данного вектора\n",
        "<h1> One-hot-encoding - представление, в котором на месте метки некоторого класса стоит 1, в остальных позициях стоит 0. Например для вектора [0, 2, 3, 0] one-hot-encoding выглядит как: [[1, 0, 0, 0], [0, 0, 1, 0], [0, 0, 0, 1], [1, 0, 0, 0]]"
      ]
    },
    {
      "cell_type": "code",
      "execution_count": null,
      "metadata": {
        "id": "Y-jlnZvw56lD"
      },
      "outputs": [],
      "source": [
        "def n_task8(vector):\n",
        "    result = np.zeros((vector.shape[0], vector.shape[0]))\n",
        "    for i in range(len(vector)):\n",
        "        result[i, vector[i]] = 1\n",
        "    return result"
      ]
    }
  ],
  "metadata": {
    "colab": {
      "provenance": []
    },
    "kernelspec": {
      "display_name": "base",
      "language": "python",
      "name": "python3"
    },
    "language_info": {
      "codemirror_mode": {
        "name": "ipython",
        "version": 3
      },
      "file_extension": ".py",
      "mimetype": "text/x-python",
      "name": "python",
      "nbconvert_exporter": "python",
      "pygments_lexer": "ipython3",
      "version": "3.12.7"
    }
  },
  "nbformat": 4,
  "nbformat_minor": 0
}
